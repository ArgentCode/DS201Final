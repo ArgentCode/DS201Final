{
 "cells": [
  {
   "cell_type": "markdown",
   "id": "3282176b",
   "metadata": {},
   "source": [
    "DS 201 final project\n",
    "Natural Gas Price Prediction in the United States\n",
    "Team 23:\n",
    "Craig Orman\n",
    "Alaina Porter\n",
    "Daniel Leigh\n",
    "All data gathered from https://www.eia.gov/naturalgas/data.php"
   ]
  }
 ],
 "metadata": {
  "kernelspec": {
   "display_name": "Python 3",
   "language": "python",
   "name": "python3"
  },
  "language_info": {
   "codemirror_mode": {
    "name": "ipython",
    "version": 3
   },
   "file_extension": ".py",
   "mimetype": "text/x-python",
   "name": "python",
   "nbconvert_exporter": "python",
   "pygments_lexer": "ipython3",
   "version": "3.8.8"
  }
 },
 "nbformat": 4,
 "nbformat_minor": 5
}
